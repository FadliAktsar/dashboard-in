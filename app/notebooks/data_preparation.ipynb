{
 "cells": [
  {
   "cell_type": "code",
   "execution_count": 1,
   "id": "9f95b93b",
   "metadata": {
    "editable": true,
    "slideshow": {
     "slide_type": ""
    },
    "tags": []
   },
   "outputs": [],
   "source": [
    "import numpy as np\n",
    "import pandas as pd\n",
    "import os\n",
    "%matplotlib inline\n",
    "import matplotlib.pyplot as plt\n",
    "import seaborn as sns"
   ]
  },
  {
   "cell_type": "code",
   "execution_count": 2,
   "id": "b2976d62-7d45-4ef4-9327-ffd71089be4d",
   "metadata": {},
   "outputs": [],
   "source": [
    "#Main Laptop\n",
    "file_path = 'C:/Users/HELLO/OneDrive/Desktop/skripsi/dataset-in/'"
   ]
  },
  {
   "cell_type": "markdown",
   "id": "bab2bc8e",
   "metadata": {},
   "source": [
    "## Read CSV / Datasets"
   ]
  },
  {
   "cell_type": "markdown",
   "id": "7f62b9b6-d818-465a-882f-4c03603f305a",
   "metadata": {},
   "source": [
    "### Before Reverse"
   ]
  },
  {
   "cell_type": "code",
   "execution_count": 3,
   "id": "34efa0bb-1f5a-4088-8e12-e556127f20f4",
   "metadata": {},
   "outputs": [
    {
     "data": {
      "text/plain": [
       "\"\\ndf_agustus = pd.read_csv(file_path+'/raw_before_reverse/1_dataset_transaksi_agustus.csv',delimiter=';')\\ndf_september = pd.read_csv(file_path+'/raw_before_reverse/2_dataset_transaksi_september.csv',delimiter=';')\\ndf_oktober = pd.read_csv(file_path+'/raw_before_reverse/3_dataset_transaksi_oktober.csv',delimiter=';')\\ndf_november = pd.read_csv(file_path+'/raw_before_reverse/4_dataset_transaksi_november.csv',delimiter=';')\\n\""
      ]
     },
     "execution_count": 3,
     "metadata": {},
     "output_type": "execute_result"
    }
   ],
   "source": [
    "'''\n",
    "df_agustus = pd.read_csv(file_path+'/raw_before_reverse/1_dataset_transaksi_agustus.csv',delimiter=';')\n",
    "df_september = pd.read_csv(file_path+'/raw_before_reverse/2_dataset_transaksi_september.csv',delimiter=';')\n",
    "df_oktober = pd.read_csv(file_path+'/raw_before_reverse/3_dataset_transaksi_oktober.csv',delimiter=';')\n",
    "df_november = pd.read_csv(file_path+'/raw_before_reverse/4_dataset_transaksi_november.csv',delimiter=';')\n",
    "'''"
   ]
  },
  {
   "cell_type": "code",
   "execution_count": 4,
   "id": "966a5650-453f-4320-b1c1-e94b437bfc32",
   "metadata": {},
   "outputs": [
    {
     "data": {
      "text/plain": [
       "\"\\ndf_desember = pd.read_csv(file_path+'/raw_before_reverse/5_dataset_transaksi_desember_2023.csv',delimiter=';')\\ndf_januari = pd.read_csv(file_path+'/raw_before_reverse/6_dataset_transaksi_januari_2024.csv',delimiter=';')\\n\""
      ]
     },
     "execution_count": 4,
     "metadata": {},
     "output_type": "execute_result"
    }
   ],
   "source": [
    "'''\n",
    "df_desember = pd.read_csv(file_path+'/raw_before_reverse/5_dataset_transaksi_desember_2023.csv',delimiter=';')\n",
    "df_januari = pd.read_csv(file_path+'/raw_before_reverse/6_dataset_transaksi_januari_2024.csv',delimiter=';')\n",
    "'''"
   ]
  },
  {
   "cell_type": "markdown",
   "id": "7c6012ef-fceb-4d0a-82c1-284c2cbf08cb",
   "metadata": {},
   "source": [
    "### After Reverse"
   ]
  },
  {
   "cell_type": "code",
   "execution_count": 5,
   "id": "946ff00a-5d95-4ece-8c3c-c497206abffc",
   "metadata": {},
   "outputs": [],
   "source": [
    "import glob"
   ]
  },
  {
   "cell_type": "code",
   "execution_count": 6,
   "id": "38c7273d-dd1d-48c5-bef4-82ff596631e0",
   "metadata": {},
   "outputs": [],
   "source": [
    "#Read CSV After Reverse\n",
    "\n",
    "file_names = glob.glob(file_path+'/raw_after_reverse/*.csv')"
   ]
  },
  {
   "cell_type": "code",
   "execution_count": 14,
   "id": "c0a160a7-c4c4-4635-8ddb-3ee2c5eb4709",
   "metadata": {},
   "outputs": [
    {
     "data": {
      "text/plain": [
       "['C:/Users/HELLO/OneDrive/Desktop/skripsi/dataset-in//raw_after_reverse\\\\1_dataTransaksiAgustus_reversed.csv',\n",
       " 'C:/Users/HELLO/OneDrive/Desktop/skripsi/dataset-in//raw_after_reverse\\\\2_dataTransaksiSeptember_reversed.csv',\n",
       " 'C:/Users/HELLO/OneDrive/Desktop/skripsi/dataset-in//raw_after_reverse\\\\3_dataTransaksiOktober_reversed.csv',\n",
       " 'C:/Users/HELLO/OneDrive/Desktop/skripsi/dataset-in//raw_after_reverse\\\\4_dataTransaksiNovember_reversed.csv',\n",
       " 'C:/Users/HELLO/OneDrive/Desktop/skripsi/dataset-in//raw_after_reverse\\\\5_dataset_transaksi_desember_reversed.csv',\n",
       " 'C:/Users/HELLO/OneDrive/Desktop/skripsi/dataset-in//raw_after_reverse\\\\6_dataset_transaksi_januari_reversed.csv']"
      ]
     },
     "execution_count": 14,
     "metadata": {},
     "output_type": "execute_result"
    }
   ],
   "source": [
    "file_names"
   ]
  },
  {
   "cell_type": "code",
   "execution_count": 27,
   "id": "6e85d362-e5f7-4a78-92bc-5e5c8b16b9ea",
   "metadata": {},
   "outputs": [],
   "source": [
    "new_file_names = glob.glob(file_path+'*.csv')"
   ]
  },
  {
   "cell_type": "code",
   "execution_count": 28,
   "id": "5318d6fe-c129-463e-a346-d8a87799dc66",
   "metadata": {},
   "outputs": [
    {
     "data": {
      "text/plain": [
       "['C:/Users/HELLO/OneDrive/Desktop/skripsi/dataset-in\\\\1_raw_data_transaksi_kopiin.csv',\n",
       " 'C:/Users/HELLO/OneDrive/Desktop/skripsi/dataset-in\\\\2_quarter_baru_reverse.csv']"
      ]
     },
     "execution_count": 28,
     "metadata": {},
     "output_type": "execute_result"
    }
   ],
   "source": [
    "new_file_names"
   ]
  },
  {
   "cell_type": "markdown",
   "id": "53e65a5e-d639-4221-8f41-d86bf8b52400",
   "metadata": {},
   "source": [
    "--------------------------------------------------"
   ]
  },
  {
   "cell_type": "markdown",
   "id": "bd18fbc1-c396-46ba-847c-86ac006b8fc7",
   "metadata": {},
   "source": [
    "## Reverse Datasets"
   ]
  },
  {
   "cell_type": "code",
   "execution_count": 7,
   "id": "d80ba154",
   "metadata": {},
   "outputs": [
    {
     "data": {
      "text/plain": [
       "'\\ndfAgustusReversed = df_agustus[::-1].reset_index(drop=True)\\ndfSeptemberReversed = df_september[::-1].reset_index(drop=True)\\ndfOktoberReversed = df_oktober[::-1].reset_index(drop=True)\\ndfNovemberReversed = df_november[::-1].reset_index(drop=True)\\n'"
      ]
     },
     "execution_count": 7,
     "metadata": {},
     "output_type": "execute_result"
    }
   ],
   "source": [
    "'''\n",
    "dfAgustusReversed = df_agustus[::-1].reset_index(drop=True)\n",
    "dfSeptemberReversed = df_september[::-1].reset_index(drop=True)\n",
    "dfOktoberReversed = df_oktober[::-1].reset_index(drop=True)\n",
    "dfNovemberReversed = df_november[::-1].reset_index(drop=True)\n",
    "'''"
   ]
  },
  {
   "cell_type": "code",
   "execution_count": 8,
   "id": "9bbfb724-a5c7-4d43-a4d0-057497e46cd0",
   "metadata": {},
   "outputs": [
    {
     "data": {
      "text/plain": [
       "'\\ndfDesemberReversed = df_desember[::-1].reset_index(drop=True)\\ndfJanuariReversed = df_januari[::-1].reset_index(drop=True)\\n'"
      ]
     },
     "execution_count": 8,
     "metadata": {},
     "output_type": "execute_result"
    }
   ],
   "source": [
    "'''\n",
    "dfDesemberReversed = df_desember[::-1].reset_index(drop=True)\n",
    "dfJanuariReversed = df_januari[::-1].reset_index(drop=True)\n",
    "'''"
   ]
  },
  {
   "cell_type": "code",
   "execution_count": 22,
   "id": "c55d3f57-4bb6-48f8-9b79-58a0912c0296",
   "metadata": {},
   "outputs": [],
   "source": [
    "df_newQuarter = pd.read_csv('C:/Users/HELLO/OneDrive/Desktop/skripsi/dataset-in/dataset_maret_juni.csv', delimiter=';')"
   ]
  },
  {
   "cell_type": "code",
   "execution_count": 24,
   "id": "01a0aff4-1983-4816-8ff0-a9e286cb13a1",
   "metadata": {},
   "outputs": [],
   "source": [
    "df_newQuarterReversed = df_newQuarter[::-1].reset_index(drop=True)"
   ]
  },
  {
   "cell_type": "code",
   "execution_count": 26,
   "id": "8aa9c906-8ab7-431c-9089-01a171920edd",
   "metadata": {},
   "outputs": [],
   "source": [
    "df_newQuarterReversed.to_csv(file_path+'quarter_baru_reverse.csv', index=False)"
   ]
  },
  {
   "cell_type": "code",
   "execution_count": 9,
   "id": "d847ad36-bcf7-41b7-9d35-71a4853e1422",
   "metadata": {},
   "outputs": [
    {
     "data": {
      "text/plain": [
       "\"\\ndfAgustusReversed.to_csv('C:/Users/Dania/OneDrive/Desktop/DESKTOP/Mas Aktsar/Skripsi/File Skripsi_V1/dataset_kopiin/raw_after_reverse/1_dataset_transaksi_agustus_reversed.csv')\\ndfSeptemberReversed.to_csv('C:/Users/Dania/OneDrive/Desktop/DESKTOP/Mas Aktsar/Skripsi/File Skripsi_V1/dataset_kopiin/raw_after_reverse/2_dataset_transaksi_september_reversed.csv')\\ndfOktoberReversed.to_csv('C:/Users/Dania/OneDrive/Desktop/DESKTOP/Mas Aktsar/Skripsi/File Skripsi_V1/dataset_kopiin/raw_after_reverse/3_dataset_transaksi_oktober_reversed.csv')\\ndfNovemberReversed.to_csv('C:/Users/Dania/OneDrive/Desktop/DESKTOP/Mas Aktsar/Skripsi/File Skripsi_V1/dataset_kopiin/raw_after_reverse/4_dataset_transaksi_november_reversed.csv')\\n\""
      ]
     },
     "execution_count": 9,
     "metadata": {},
     "output_type": "execute_result"
    }
   ],
   "source": [
    "'''\n",
    "dfAgustusReversed.to_csv('C:/Users/Dania/OneDrive/Desktop/DESKTOP/Mas Aktsar/Skripsi/File Skripsi_V1/dataset_kopiin/raw_after_reverse/1_dataset_transaksi_agustus_reversed.csv')\n",
    "dfSeptemberReversed.to_csv('C:/Users/Dania/OneDrive/Desktop/DESKTOP/Mas Aktsar/Skripsi/File Skripsi_V1/dataset_kopiin/raw_after_reverse/2_dataset_transaksi_september_reversed.csv')\n",
    "dfOktoberReversed.to_csv('C:/Users/Dania/OneDrive/Desktop/DESKTOP/Mas Aktsar/Skripsi/File Skripsi_V1/dataset_kopiin/raw_after_reverse/3_dataset_transaksi_oktober_reversed.csv')\n",
    "dfNovemberReversed.to_csv('C:/Users/Dania/OneDrive/Desktop/DESKTOP/Mas Aktsar/Skripsi/File Skripsi_V1/dataset_kopiin/raw_after_reverse/4_dataset_transaksi_november_reversed.csv')\n",
    "'''"
   ]
  },
  {
   "cell_type": "code",
   "execution_count": 10,
   "id": "96c4256f-bbf8-4a42-b839-2d707e35e617",
   "metadata": {},
   "outputs": [
    {
     "data": {
      "text/plain": [
       "\"\\ndfDesemberReversed.to_csv('C:/Users/HELLO/OneDrive/Desktop/skripsi/dataset-in/raw_after_reverse/5_dataset_transaksi_desember_reversed.csv', index=False)\\ndfJanuariReversed.to_csv('C:/Users/HELLO/OneDrive/Desktop/skripsi/dataset-in/raw_after_reverse/6_dataset_transaksi_januari_reversed.csv', index=False)\\n\""
      ]
     },
     "execution_count": 10,
     "metadata": {},
     "output_type": "execute_result"
    }
   ],
   "source": [
    "'''\n",
    "dfDesemberReversed.to_csv('C:/Users/HELLO/OneDrive/Desktop/skripsi/dataset-in/raw_after_reverse/5_dataset_transaksi_desember_reversed.csv', index=False)\n",
    "dfJanuariReversed.to_csv('C:/Users/HELLO/OneDrive/Desktop/skripsi/dataset-in/raw_after_reverse/6_dataset_transaksi_januari_reversed.csv', index=False)\n",
    "'''"
   ]
  },
  {
   "cell_type": "code",
   "execution_count": 35,
   "id": "5214fbbb-517d-4d06-852c-644c6b747294",
   "metadata": {},
   "outputs": [
    {
     "data": {
      "text/plain": [
       "['C:/Users/HELLO/OneDrive/Desktop/skripsi/dataset-in\\\\1_raw_data_transaksi_kopiin.csv',\n",
       " 'C:/Users/HELLO/OneDrive/Desktop/skripsi/dataset-in\\\\2_quarter_baru_reverse.csv']"
      ]
     },
     "execution_count": 35,
     "metadata": {},
     "output_type": "execute_result"
    }
   ],
   "source": [
    "new_file_names"
   ]
  },
  {
   "cell_type": "code",
   "execution_count": 15,
   "id": "8fdf2eae-0359-4599-9203-04863b0427ae",
   "metadata": {},
   "outputs": [],
   "source": [
    "li = []"
   ]
  },
  {
   "cell_type": "code",
   "execution_count": 29,
   "id": "27155f96-8ee7-4d08-b5f5-2da175f08c6e",
   "metadata": {},
   "outputs": [],
   "source": [
    "for new_filename in new_file_names:\n",
    "    df = pd.read_csv(new_filename, index_col=None, header=0, delimiter=';')\n",
    "    li.append(df)\n",
    "new_frame = pd.concat(li, axis=0, ignore_index=True)"
   ]
  },
  {
   "cell_type": "code",
   "execution_count": 33,
   "id": "3b0a3f1e-5135-4479-88fb-fdb79596f28e",
   "metadata": {},
   "outputs": [],
   "source": [
    "new_frame.to_csv(file_path+'new_raw_data_transaksi_kopiin.csv', index=False)"
   ]
  }
 ],
 "metadata": {
  "kernelspec": {
   "display_name": "Python 3 (ipykernel)",
   "language": "python",
   "name": "python3"
  },
  "language_info": {
   "codemirror_mode": {
    "name": "ipython",
    "version": 3
   },
   "file_extension": ".py",
   "mimetype": "text/x-python",
   "name": "python",
   "nbconvert_exporter": "python",
   "pygments_lexer": "ipython3",
   "version": "3.12.2"
  }
 },
 "nbformat": 4,
 "nbformat_minor": 5
}
