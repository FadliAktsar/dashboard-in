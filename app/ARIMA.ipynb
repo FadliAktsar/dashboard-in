{
 "cells": [
  {
   "cell_type": "code",
   "execution_count": 1,
   "id": "9f95b93b",
   "metadata": {
    "editable": true,
    "slideshow": {
     "slide_type": ""
    },
    "tags": []
   },
   "outputs": [],
   "source": [
    "import numpy as np\n",
    "import pandas as pd\n",
    "import time\n",
    "import io\n",
    "import os\n",
    "%matplotlib inline\n",
    "import csv\n",
    "import datetime\n",
    "import matplotlib.pyplot as plt\n",
    "import seaborn as sns"
   ]
  },
  {
   "cell_type": "code",
   "execution_count": 2,
   "id": "b2976d62-7d45-4ef4-9327-ffd71089be4d",
   "metadata": {},
   "outputs": [],
   "source": [
    "#Main Laptop\n",
    "file_path = 'C:/Users/DELL/Desktop/Skripsweet/Skripsi_V1_1_2/dataset_kopiin'"
   ]
  },
  {
   "cell_type": "code",
   "execution_count": 3,
   "id": "36ea87b8-f6f6-43b5-9da3-7f61c7ebef11",
   "metadata": {},
   "outputs": [],
   "source": [
    "#Dania Laptop\n",
    "#file_path = 'C:/Users/Dania/OneDrive/Desktop/DESKTOP/Mas Aktsar/Skripsi/File Skripsi_V1_1_1/dataset_kopiin'"
   ]
  },
  {
   "cell_type": "markdown",
   "id": "51d3549c-c0d3-4d1a-9c54-4c4906238122",
   "metadata": {},
   "source": [
    "# Data Preparation"
   ]
  },
  {
   "cell_type": "markdown",
   "id": "bab2bc8e",
   "metadata": {
    "jp-MarkdownHeadingCollapsed": true
   },
   "source": [
    "## Read CSV / Datasets"
   ]
  },
  {
   "cell_type": "markdown",
   "id": "7f62b9b6-d818-465a-882f-4c03603f305a",
   "metadata": {},
   "source": [
    "### Before Reverse"
   ]
  },
  {
   "cell_type": "code",
   "execution_count": 4,
   "id": "34efa0bb-1f5a-4088-8e12-e556127f20f4",
   "metadata": {},
   "outputs": [
    {
     "data": {
      "text/plain": [
       "\"\\ndf_agustus = pd.read_csv(file_path+'/raw_before_reverse/1_dataset_transaksi_agustus.csv',delimiter=';')\\ndf_september = pd.read_csv(file_path+'/raw_before_reverse/2_dataset_transaksi_september.csv',delimiter=';')\\ndf_oktober = pd.read_csv(file_path+'/raw_before_reverse/3_dataset_transaksi_oktober.csv',delimiter=';')\\ndf_november = pd.read_csv(file_path+'/raw_before_reverse/4_dataset_transaksi_november.csv',delimiter=';')\\n\""
      ]
     },
     "execution_count": 4,
     "metadata": {},
     "output_type": "execute_result"
    }
   ],
   "source": [
    "'''\n",
    "df_agustus = pd.read_csv(file_path+'/raw_before_reverse/1_dataset_transaksi_agustus.csv',delimiter=';')\n",
    "df_september = pd.read_csv(file_path+'/raw_before_reverse/2_dataset_transaksi_september.csv',delimiter=';')\n",
    "df_oktober = pd.read_csv(file_path+'/raw_before_reverse/3_dataset_transaksi_oktober.csv',delimiter=';')\n",
    "df_november = pd.read_csv(file_path+'/raw_before_reverse/4_dataset_transaksi_november.csv',delimiter=';')\n",
    "'''"
   ]
  },
  {
   "cell_type": "markdown",
   "id": "7c6012ef-fceb-4d0a-82c1-284c2cbf08cb",
   "metadata": {},
   "source": [
    "### After Reverse"
   ]
  },
  {
   "cell_type": "code",
   "execution_count": 5,
   "id": "38c7273d-dd1d-48c5-bef4-82ff596631e0",
   "metadata": {},
   "outputs": [
    {
     "data": {
      "text/plain": [
       "\"\\nimport glob\\nfile_names = glob.glob(file_path+'/raw_after_reverse/*.csv')\\n\""
      ]
     },
     "execution_count": 5,
     "metadata": {},
     "output_type": "execute_result"
    }
   ],
   "source": [
    "#Read CSV After Reverse\n",
    "'''\n",
    "import glob\n",
    "file_names = glob.glob(file_path+'/raw_after_reverse/*.csv')\n",
    "'''"
   ]
  },
  {
   "cell_type": "markdown",
   "id": "53e65a5e-d639-4221-8f41-d86bf8b52400",
   "metadata": {},
   "source": [
    "--------------------------------------------------"
   ]
  },
  {
   "cell_type": "markdown",
   "id": "bd18fbc1-c396-46ba-847c-86ac006b8fc7",
   "metadata": {
    "jp-MarkdownHeadingCollapsed": true
   },
   "source": [
    "## Reverse Datasets"
   ]
  },
  {
   "cell_type": "code",
   "execution_count": 6,
   "id": "d80ba154",
   "metadata": {},
   "outputs": [
    {
     "data": {
      "text/plain": [
       "'\\ndfAgustusReversed = df_agustus[::-1].reset_index(drop=True)\\ndfSeptemberReversed = df_september[::-1].reset_index(drop=True)\\ndfOktoberReversed = df_oktober[::-1].reset_index(drop=True)\\ndfNovemberReversed = df_november[::-1].reset_index(drop=True)\\n'"
      ]
     },
     "execution_count": 6,
     "metadata": {},
     "output_type": "execute_result"
    }
   ],
   "source": [
    "'''\n",
    "dfAgustusReversed = df_agustus[::-1].reset_index(drop=True)\n",
    "dfSeptemberReversed = df_september[::-1].reset_index(drop=True)\n",
    "dfOktoberReversed = df_oktober[::-1].reset_index(drop=True)\n",
    "dfNovemberReversed = df_november[::-1].reset_index(drop=True)\n",
    "'''"
   ]
  },
  {
   "cell_type": "code",
   "execution_count": 7,
   "id": "d847ad36-bcf7-41b7-9d35-71a4853e1422",
   "metadata": {},
   "outputs": [
    {
     "data": {
      "text/plain": [
       "\"\\ndfAgustusReversed.to_csv('C:/Users/Dania/OneDrive/Desktop/DESKTOP/Mas Aktsar/Skripsi/File Skripsi_V1/dataset_kopiin/raw_after_reverse/1_dataset_transaksi_agustus_reversed.csv')\\ndfSeptemberReversed.to_csv('C:/Users/Dania/OneDrive/Desktop/DESKTOP/Mas Aktsar/Skripsi/File Skripsi_V1/dataset_kopiin/raw_after_reverse/2_dataset_transaksi_september_reversed.csv')\\ndfOktoberReversed.to_csv('C:/Users/Dania/OneDrive/Desktop/DESKTOP/Mas Aktsar/Skripsi/File Skripsi_V1/dataset_kopiin/raw_after_reverse/3_dataset_transaksi_oktober_reversed.csv')\\ndfNovemberReversed.to_csv('C:/Users/Dania/OneDrive/Desktop/DESKTOP/Mas Aktsar/Skripsi/File Skripsi_V1/dataset_kopiin/raw_after_reverse/4_dataset_transaksi_november_reversed.csv')\\n\""
      ]
     },
     "execution_count": 7,
     "metadata": {},
     "output_type": "execute_result"
    }
   ],
   "source": [
    "'''\n",
    "dfAgustusReversed.to_csv('C:/Users/Dania/OneDrive/Desktop/DESKTOP/Mas Aktsar/Skripsi/File Skripsi_V1/dataset_kopiin/raw_after_reverse/1_dataset_transaksi_agustus_reversed.csv')\n",
    "dfSeptemberReversed.to_csv('C:/Users/Dania/OneDrive/Desktop/DESKTOP/Mas Aktsar/Skripsi/File Skripsi_V1/dataset_kopiin/raw_after_reverse/2_dataset_transaksi_september_reversed.csv')\n",
    "dfOktoberReversed.to_csv('C:/Users/Dania/OneDrive/Desktop/DESKTOP/Mas Aktsar/Skripsi/File Skripsi_V1/dataset_kopiin/raw_after_reverse/3_dataset_transaksi_oktober_reversed.csv')\n",
    "dfNovemberReversed.to_csv('C:/Users/Dania/OneDrive/Desktop/DESKTOP/Mas Aktsar/Skripsi/File Skripsi_V1/dataset_kopiin/raw_after_reverse/4_dataset_transaksi_november_reversed.csv')\n",
    "'''"
   ]
  },
  {
   "cell_type": "markdown",
   "id": "418ddad6",
   "metadata": {
    "jp-MarkdownHeadingCollapsed": true
   },
   "source": [
    "## Combine Datasets"
   ]
  },
  {
   "cell_type": "code",
   "execution_count": 8,
   "id": "8fdf2eae-0359-4599-9203-04863b0427ae",
   "metadata": {},
   "outputs": [
    {
     "data": {
      "text/plain": [
       "'\\nli = []\\n'"
      ]
     },
     "execution_count": 8,
     "metadata": {},
     "output_type": "execute_result"
    }
   ],
   "source": [
    "'''\n",
    "li = []\n",
    "'''"
   ]
  },
  {
   "cell_type": "code",
   "execution_count": 9,
   "id": "27155f96-8ee7-4d08-b5f5-2da175f08c6e",
   "metadata": {},
   "outputs": [
    {
     "data": {
      "text/plain": [
       "\"\\nfor filename in file_names:\\n    df = pd.read_csv(filename, index_col=None, header=0, delimiter=';')\\n    li.append(df)\\nframe = pd.concat(li, axis=0, ignore_index=True)\\n\""
      ]
     },
     "execution_count": 9,
     "metadata": {},
     "output_type": "execute_result"
    }
   ],
   "source": [
    "'''\n",
    "for filename in file_names:\n",
    "    df = pd.read_csv(filename, index_col=None, header=0, delimiter=';')\n",
    "    li.append(df)\n",
    "frame = pd.concat(li, axis=0, ignore_index=True)\n",
    "'''"
   ]
  },
  {
   "cell_type": "code",
   "execution_count": 10,
   "id": "3b0a3f1e-5135-4479-88fb-fdb79596f28e",
   "metadata": {},
   "outputs": [
    {
     "data": {
      "text/plain": [
       "\"\\nframe.to_csv('C:/Users/Dania/OneDrive/Desktop/DESKTOP/Mas Aktsar/Skripsi/File Skripsi_V1/dataset_kopiin/raw_data_transaksi_kopiin.csv')\\n\""
      ]
     },
     "execution_count": 10,
     "metadata": {},
     "output_type": "execute_result"
    }
   ],
   "source": [
    "'''\n",
    "frame.to_csv('C:/Users/Dania/OneDrive/Desktop/DESKTOP/Mas Aktsar/Skripsi/File Skripsi_V1/dataset_kopiin/raw_data_transaksi_kopiin.csv')\n",
    "'''"
   ]
  },
  {
   "cell_type": "markdown",
   "id": "4ab53a34-feaf-4c58-9dae-762059f22cf5",
   "metadata": {},
   "source": [
    "# Data Preprocessing"
   ]
  },
  {
   "cell_type": "markdown",
   "id": "734f75ae-4148-4df5-8a96-74b3944c1335",
   "metadata": {},
   "source": [
    "## Resample Data and Index"
   ]
  },
  {
   "cell_type": "code",
   "execution_count": 11,
   "id": "35f146d6-7bac-4b82-9c8d-747d7a65694a",
   "metadata": {},
   "outputs": [],
   "source": [
    "df = pd.read_csv(file_path+'/raw_data_transaksi_kopiin.csv', index_col=None, header=0, delimiter=';')"
   ]
  },
  {
   "cell_type": "code",
   "execution_count": 12,
   "id": "c8e8b21d-a4b4-4d52-8738-ac196deea04d",
   "metadata": {},
   "outputs": [
    {
     "data": {
      "text/plain": [
       "0      66000\n",
       "1      18000\n",
       "2      18000\n",
       "3      22000\n",
       "4      35000\n",
       "       ...  \n",
       "322    36000\n",
       "323    36000\n",
       "324    61000\n",
       "325    35000\n",
       "326    38000\n",
       "Name: Amount, Length: 327, dtype: int64"
      ]
     },
     "execution_count": 12,
     "metadata": {},
     "output_type": "execute_result"
    }
   ],
   "source": [
    "df['Amount']"
   ]
  },
  {
   "cell_type": "code",
   "execution_count": 13,
   "id": "74273e5a-b925-4892-913a-aa626858c5cf",
   "metadata": {
    "scrolled": true
   },
   "outputs": [],
   "source": [
    "#Select Some Columns For Needs\n",
    "\n",
    "df1 = df[['Outlet name','Merchant ID', 'Feature', \n",
    "    #'Order ID', \n",
    "    'Transaction ID',\n",
    "       'Amount', 'Net Amount', 'Transaction Status', \n",
    "        #'Transaction time',\n",
    "       'Payment Type', \n",
    "        #'Payment Date', \n",
    "       'GO-PAY Transactions ID',\n",
    "       'Gopay Reference Id', \n",
    "       #'GoPay Customer ID', \n",
    "       'QRIS Transaction Type',\n",
    "       'QRIS Reference ID', 'QRIS Issuer', 'QRIS Acquirer', \n",
    "       #'Card Type',\n",
    "       #'Credit Card Number',\n",
    "       'Settlement Date', \n",
    "    #'Settlement time'\n",
    "        ]].copy()"
   ]
  },
  {
   "cell_type": "code",
   "execution_count": 14,
   "id": "94948b58-2ceb-4622-8f37-645cb1aed817",
   "metadata": {},
   "outputs": [
    {
     "data": {
      "text/plain": [
       "Outlet name               object\n",
       "Merchant ID               object\n",
       "Feature                   object\n",
       "Transaction ID            object\n",
       "Amount                     int64\n",
       "Net Amount                 int64\n",
       "Transaction Status        object\n",
       "Payment Type              object\n",
       "GO-PAY Transactions ID    object\n",
       "Gopay Reference Id        object\n",
       "QRIS Transaction Type     object\n",
       "QRIS Reference ID         object\n",
       "QRIS Issuer               object\n",
       "QRIS Acquirer             object\n",
       "Settlement Date           object\n",
       "dtype: object"
      ]
     },
     "execution_count": 14,
     "metadata": {},
     "output_type": "execute_result"
    }
   ],
   "source": [
    "df1.dtypes"
   ]
  },
  {
   "cell_type": "code",
   "execution_count": 15,
   "id": "a823805c-8ee0-4709-85f9-f50eb88c5167",
   "metadata": {},
   "outputs": [],
   "source": [
    "relevant_columns = (df1['Net Amount'] !=0)"
   ]
  },
  {
   "cell_type": "code",
   "execution_count": 16,
   "id": "7f738b42-4d23-4081-9c4e-ee834c69daef",
   "metadata": {},
   "outputs": [
    {
     "data": {
      "text/plain": [
       "0      False\n",
       "1       True\n",
       "2      False\n",
       "3      False\n",
       "4       True\n",
       "       ...  \n",
       "322     True\n",
       "323    False\n",
       "324    False\n",
       "325    False\n",
       "326    False\n",
       "Name: Net Amount, Length: 327, dtype: bool"
      ]
     },
     "execution_count": 16,
     "metadata": {},
     "output_type": "execute_result"
    }
   ],
   "source": [
    "relevant_columns"
   ]
  },
  {
   "cell_type": "code",
   "execution_count": 17,
   "id": "5b2aa3c3-1525-4c1c-b4fc-a0d513175d75",
   "metadata": {},
   "outputs": [],
   "source": [
    "#Subset Net Amount to Amount\n",
    "df1.loc[relevant_columns, 'Amount'] = df1.loc[relevant_columns, 'Net Amount']"
   ]
  },
  {
   "cell_type": "code",
   "execution_count": 18,
   "id": "489d99b9-9584-4c86-8729-a71878498f77",
   "metadata": {},
   "outputs": [
    {
     "data": {
      "text/plain": [
       "0      66000\n",
       "1      17874\n",
       "2      18000\n",
       "3      22000\n",
       "4      34755\n",
       "       ...  \n",
       "322    35748\n",
       "323    36000\n",
       "324    61000\n",
       "325    35000\n",
       "326    38000\n",
       "Name: Amount, Length: 327, dtype: int64"
      ]
     },
     "execution_count": 18,
     "metadata": {},
     "output_type": "execute_result"
    }
   ],
   "source": [
    "df1['Amount']"
   ]
  },
  {
   "cell_type": "markdown",
   "id": "bc126381-60b5-40cb-bb21-b26fbe1100bf",
   "metadata": {},
   "source": [
    "### For Forecasting DataFrame"
   ]
  },
  {
   "cell_type": "code",
   "execution_count": 19,
   "id": "8b230dc2-a8e8-4bcb-81dc-0da9994401f1",
   "metadata": {},
   "outputs": [],
   "source": [
    "df2 = df1[[\n",
    "    #'Outlet name','Merchant ID', 'Feature', \n",
    "    #'Order ID', \n",
    "    #'Transaction ID',\n",
    "       'Amount', \n",
    "    #'Net Amount', 'Transaction Status', \n",
    "        #'Transaction time',\n",
    "       #'Payment Type', \n",
    "        #'Payment Date', \n",
    "       #'GO-PAY Transactions ID',\n",
    "       #'Gopay Reference Id', \n",
    "       #'GoPay Customer ID', \n",
    "       #'QRIS Transaction Type',\n",
    "      # 'QRIS Reference ID', 'QRIS Issuer', 'QRIS Acquirer', \n",
    "       #'Card Type',\n",
    "       #'Credit Card Number',\n",
    "       'Settlement Date', \n",
    "    #'Settlement time'\n",
    "]].copy()"
   ]
  },
  {
   "cell_type": "code",
   "execution_count": 20,
   "id": "b60654a3-7d32-4732-942b-62c6b1645080",
   "metadata": {},
   "outputs": [],
   "source": [
    "df2['Settlement Date'] = pd.to_datetime(df2['Settlement Date'])\n",
    "df2.set_index('Settlement Date', inplace=True)"
   ]
  },
  {
   "cell_type": "code",
   "execution_count": 21,
   "id": "5122a17f-0df3-4aaf-bd2d-d6b03f9bc39c",
   "metadata": {},
   "outputs": [
    {
     "data": {
      "text/html": [
       "<div>\n",
       "<style scoped>\n",
       "    .dataframe tbody tr th:only-of-type {\n",
       "        vertical-align: middle;\n",
       "    }\n",
       "\n",
       "    .dataframe tbody tr th {\n",
       "        vertical-align: top;\n",
       "    }\n",
       "\n",
       "    .dataframe thead th {\n",
       "        text-align: right;\n",
       "    }\n",
       "</style>\n",
       "<table border=\"1\" class=\"dataframe\">\n",
       "  <thead>\n",
       "    <tr style=\"text-align: right;\">\n",
       "      <th></th>\n",
       "      <th>Amount</th>\n",
       "    </tr>\n",
       "    <tr>\n",
       "      <th>Settlement Date</th>\n",
       "      <th></th>\n",
       "    </tr>\n",
       "  </thead>\n",
       "  <tbody>\n",
       "    <tr>\n",
       "      <th>2023-08-01</th>\n",
       "      <td>66000</td>\n",
       "    </tr>\n",
       "    <tr>\n",
       "      <th>2023-08-01</th>\n",
       "      <td>17874</td>\n",
       "    </tr>\n",
       "    <tr>\n",
       "      <th>2023-08-01</th>\n",
       "      <td>18000</td>\n",
       "    </tr>\n",
       "    <tr>\n",
       "      <th>2023-08-01</th>\n",
       "      <td>22000</td>\n",
       "    </tr>\n",
       "    <tr>\n",
       "      <th>2023-08-01</th>\n",
       "      <td>34755</td>\n",
       "    </tr>\n",
       "    <tr>\n",
       "      <th>...</th>\n",
       "      <td>...</td>\n",
       "    </tr>\n",
       "    <tr>\n",
       "      <th>2023-11-27</th>\n",
       "      <td>35748</td>\n",
       "    </tr>\n",
       "    <tr>\n",
       "      <th>2023-11-27</th>\n",
       "      <td>36000</td>\n",
       "    </tr>\n",
       "    <tr>\n",
       "      <th>2023-11-27</th>\n",
       "      <td>61000</td>\n",
       "    </tr>\n",
       "    <tr>\n",
       "      <th>2023-11-29</th>\n",
       "      <td>35000</td>\n",
       "    </tr>\n",
       "    <tr>\n",
       "      <th>2023-11-29</th>\n",
       "      <td>38000</td>\n",
       "    </tr>\n",
       "  </tbody>\n",
       "</table>\n",
       "<p>327 rows × 1 columns</p>\n",
       "</div>"
      ],
      "text/plain": [
       "                 Amount\n",
       "Settlement Date        \n",
       "2023-08-01        66000\n",
       "2023-08-01        17874\n",
       "2023-08-01        18000\n",
       "2023-08-01        22000\n",
       "2023-08-01        34755\n",
       "...                 ...\n",
       "2023-11-27        35748\n",
       "2023-11-27        36000\n",
       "2023-11-27        61000\n",
       "2023-11-29        35000\n",
       "2023-11-29        38000\n",
       "\n",
       "[327 rows x 1 columns]"
      ]
     },
     "execution_count": 21,
     "metadata": {},
     "output_type": "execute_result"
    }
   ],
   "source": [
    "df2"
   ]
  },
  {
   "cell_type": "code",
   "execution_count": 22,
   "id": "009f8f9f-3d98-4bd4-9301-4b0c90017a16",
   "metadata": {},
   "outputs": [],
   "source": [
    "df2 = df2.groupby(['Settlement Date'])['Amount'].sum().reset_index().copy()"
   ]
  },
  {
   "cell_type": "code",
   "execution_count": 23,
   "id": "8f1dd4ae-9c66-41ca-95bf-fd969ed05f74",
   "metadata": {},
   "outputs": [],
   "source": [
    "#Rename Column\n",
    "df2 = df2.rename(columns={\n",
    "    'Settlement Date':'Settlement_Date',\n",
    "    'Amount':'Amount_Per_Day'\n",
    "})"
   ]
  },
  {
   "cell_type": "code",
   "execution_count": 24,
   "id": "b933c01c-013a-41aa-ac01-2bd93a45aef6",
   "metadata": {},
   "outputs": [],
   "source": [
    "df2['Settlement_Date'] = pd.to_datetime(df2['Settlement_Date'], format='%d/%m/%Y')\n",
    "df2.set_index('Settlement_Date', inplace=True)\n",
    "df2.sort_index(inplace=True)"
   ]
  },
  {
   "cell_type": "code",
   "execution_count": 25,
   "id": "e71c90c7-f60e-40f4-82c6-842116334dec",
   "metadata": {},
   "outputs": [
    {
     "data": {
      "image/png": "[encoded data removed]",
      "text/plain": [
       "<Figure size 1500x1000 with 1 Axes>"
      ]
     },
     "metadata": {},
     "output_type": "display_data"
    }
   ],
   "source": [
    "plt.figure(figsize=(15, 10))\n",
    "plt.plot(df2['Amount_Per_Day'], scalex=1)\n",
    "plt.ylabel('Amount')\n",
    "plt.title('Transaction over Time')\n",
    "plt.show()"
   ]
  },
  {
   "cell_type": "markdown",
   "id": "a58e276f-565a-4c49-a092-1b6386380f05",
   "metadata": {},
   "source": [
    "# Data Modeling With ARIMA"
   ]
  },
  {
   "cell_type": "code",
   "execution_count": 26,
   "id": "6492b88b-9bc9-4c9e-ad3c-cbc414e345db",
   "metadata": {},
   "outputs": [],
   "source": [
    "from statsmodels.tsa.arima.model import ARIMA\n",
    "from sklearn.metrics import mean_squared_error, mean_absolute_error, mean_absolute_percentage_error\n",
    "from statsmodels.tsa.stattools import adfuller\n",
    "from statsmodels.tsa.stattools import acf, pacf\n",
    "from statsmodels.tsa.seasonal import seasonal_decompose\n",
    "from pmdarima.arima import auto_arima"
   ]
  },
  {
   "cell_type": "markdown",
   "id": "99dd9b3b-1764-4705-97f7-92b90915132f",
   "metadata": {},
   "source": [
    "## Train & Test Datasets"
   ]
  },
  {
   "cell_type": "code",
   "execution_count": 27,
   "id": "1e4ac12b-a214-4c83-a8d7-1fa8ec4d8dd1",
   "metadata": {},
   "outputs": [],
   "source": [
    "# Train & Test Datasets 1\n",
    "train_df = df2.iloc[:51]\n",
    "test_df = df2.iloc[51:]"
   ]
  },
  {
   "cell_type": "code",
   "execution_count": 28,
   "id": "c4e035da-7658-4bed-af62-de7cb0987938",
   "metadata": {},
   "outputs": [
    {
     "name": "stdout",
     "output_type": "stream",
     "text": [
      "(51, 1) (34, 1)\n"
     ]
    }
   ],
   "source": [
    "print(train_df.shape, test_df.shape)"
   ]
  },
  {
   "cell_type": "code",
   "execution_count": 29,
   "id": "89ab4bbe-78ce-48f0-8457-9ddd44b0253b",
   "metadata": {},
   "outputs": [],
   "source": [
    "# Train & Test Datasets 2\n",
    "train_df2 = df2.iloc[:56]\n",
    "test_df2 = df2.iloc[56:]"
   ]
  },
  {
   "cell_type": "code",
   "execution_count": 30,
   "id": "fbd1ad7b-b28c-49b8-8e99-dfb7b2533868",
   "metadata": {},
   "outputs": [
    {
     "name": "stdout",
     "output_type": "stream",
     "text": [
      "(56, 1) (29, 1)\n"
     ]
    }
   ],
   "source": [
    "print(train_df2.shape, test_df2.shape)"
   ]
  },
  {
   "cell_type": "code",
   "execution_count": 31,
   "id": "d9ce174c-3606-4237-8ee6-f9a174592089",
   "metadata": {},
   "outputs": [],
   "source": [
    "# Train & Test Datasets 3\n",
    "train_df3 = df2.iloc[:60]\n",
    "test_df3 = df2.iloc[60:]"
   ]
  },
  {
   "cell_type": "code",
   "execution_count": 32,
   "id": "51922ed4-91c1-423b-aa30-fa5956062646",
   "metadata": {},
   "outputs": [
    {
     "name": "stdout",
     "output_type": "stream",
     "text": [
      "(60, 1) (25, 1)\n"
     ]
    }
   ],
   "source": [
    "print(train_df3.shape, test_df3.shape)"
   ]
  },
  {
   "cell_type": "code",
   "execution_count": 33,
   "id": "74dc4e97-a874-4556-ad3e-8e92dedc5195",
   "metadata": {},
   "outputs": [
    {
     "data": {
      "text/plain": [
       "DatetimeIndex(['2023-08-01', '2023-08-02', '2023-08-03', '2023-08-07',\n",
       "               '2023-08-08', '2023-08-09', '2023-08-10', '2023-08-11',\n",
       "               '2023-08-13', '2023-08-14', '2023-08-15', '2023-08-16',\n",
       "               '2023-08-17', '2023-08-18', '2023-08-19', '2023-08-20',\n",
       "               '2023-08-21', '2023-08-22', '2023-08-23', '2023-08-24',\n",
       "               '2023-08-25', '2023-08-28', '2023-08-29', '2023-08-30',\n",
       "               '2023-09-01', '2023-09-02', '2023-09-03', '2023-09-05',\n",
       "               '2023-09-06', '2023-09-07', '2023-09-09', '2023-09-10',\n",
       "               '2023-09-11', '2023-09-12', '2023-09-14', '2023-09-15',\n",
       "               '2023-09-16', '2023-09-18', '2023-09-19', '2023-09-20',\n",
       "               '2023-09-21', '2023-09-22', '2023-09-23', '2023-09-25',\n",
       "               '2023-09-27', '2023-09-28', '2023-10-03', '2023-10-04',\n",
       "               '2023-10-05', '2023-10-06', '2023-10-08', '2023-10-09',\n",
       "               '2023-10-10', '2023-10-12', '2023-10-13', '2023-10-16',\n",
       "               '2023-10-17', '2023-10-19', '2023-10-21', '2023-10-22',\n",
       "               '2023-10-23', '2023-10-24', '2023-10-25', '2023-10-26',\n",
       "               '2023-10-27', '2023-10-29', '2023-10-30', '2023-10-31',\n",
       "               '2023-11-01', '2023-11-02', '2023-11-03', '2023-11-10',\n",
       "               '2023-11-13', '2023-11-14', '2023-11-15', '2023-11-16',\n",
       "               '2023-11-17', '2023-11-21', '2023-11-22', '2023-11-23',\n",
       "               '2023-11-24', '2023-11-25', '2023-11-26', '2023-11-27',\n",
       "               '2023-11-29'],\n",
       "              dtype='datetime64[ns]', name='Settlement_Date', freq=None)"
      ]
     },
     "execution_count": 33,
     "metadata": {},
     "output_type": "execute_result"
    }
   ],
   "source": [
    "df2.index"
   ]
  },
  {
   "cell_type": "markdown",
   "id": "a3c2ca2f-9f3e-48c6-91cb-607574c242a9",
   "metadata": {},
   "source": [
    "------------------------------------------------------------"
   ]
  },
  {
   "cell_type": "markdown",
   "id": "efbcb22c-8e05-438b-a8dd-264b52c54a4f",
   "metadata": {},
   "source": [
    "## Stationarity Test"
   ]
  },
  {
   "cell_type": "code",
   "execution_count": 34,
   "id": "406da236-efac-49d6-9b59-ba102cb2f99c",
   "metadata": {
    "jupyter": {
     "source_hidden": true
    }
   },
   "outputs": [
    {
     "data": {
      "text/plain": [
       "\"\\nplt.figure(figsize=(15, 10))\\nplt.plot(train_df['Amount_Per_Day'], scalex=1)\\nplt.plot(test_df['Amount_Per_Day'], scalex=1)\\nplt.ylabel('Amount')\\nplt.title('Transaction over Time - Train & Test Data 1')\\nplt.show()\\n\""
      ]
     },
     "execution_count": 34,
     "metadata": {},
     "output_type": "execute_result"
    }
   ],
   "source": [
    "'''\n",
    "plt.figure(figsize=(15, 10))\n",
    "plt.plot(train_df['Amount_Per_Day'], scalex=1)\n",
    "plt.plot(test_df['Amount_Per_Day'], scalex=1)\n",
    "plt.ylabel('Amount')\n",
    "plt.title('Transaction over Time - Train & Test Data 1')\n",
    "plt.show()\n",
    "'''"
   ]
  },
  {
   "cell_type": "code",
   "execution_count": 35,
   "id": "88cc76a2-7f76-4fdb-8964-f337c7ec2854",
   "metadata": {
    "editable": true,
    "slideshow": {
     "slide_type": ""
    },
    "tags": []
   },
   "outputs": [],
   "source": [
    "def stationarity_test(value):\n",
    "    df2['Amount_Per_Day'] = df2.sum(axis=1)\n",
    "    result = adfuller(value, autolag='AIC')\n",
    "    print('Uji Stasionaritas:')\n",
    "    print('ADF Statistic:', result[0])\n",
    "    print('P-Value', result[1])\n",
    "    print('Number of Lags:', result[2])\n",
    "    print('Number of Observation Used in the Analysis:', result[3])\n",
    "    print('Critical Values:')\n",
    "    for key, value in result[4].items():\n",
    "        print(f'\\t{key}: {value}')\n",
    "    if result[1] <= 0.05:\n",
    "        print('Data Amount_Per_Day SUDAH STASIONER')\n",
    "    else:\n",
    "        print('Data Amount_Per_Day BELUM STASIONER')"
   ]
  },
  {
   "cell_type": "code",
   "execution_count": 36,
   "id": "5b51453a-aeda-4ba3-ab44-03224ed855e8",
   "metadata": {},
   "outputs": [
    {
     "name": "stdout",
     "output_type": "stream",
     "text": [
      "Uji Stasionaritas:\n",
      "ADF Statistic: -7.3947006950848\n",
      "P-Value 7.833599274846851e-11\n",
      "Number of Lags: 2\n",
      "Number of Observation Used in the Analysis: 82\n",
      "Critical Values:\n",
      "\t1%: -3.512738056978279\n",
      "\t5%: -2.8974898650628984\n",
      "\t10%: -2.585948732897085\n",
      "Data Amount_Per_Day SUDAH STASIONER\n"
     ]
    }
   ],
   "source": [
    "stationarity_test(df2)"
   ]
  },
  {
   "cell_type": "code",
   "execution_count": 37,
   "id": "38d1d9f8-c2de-4f57-bf14-eb00bcd2e922",
   "metadata": {},
   "outputs": [
    {
     "name": "stdout",
     "output_type": "stream",
     "text": [
      "Uji Stasionaritas:\n",
      "ADF Statistic: -3.067335688042979\n",
      "P-Value 0.029066843634942968\n",
      "Number of Lags: 5\n",
      "Number of Observation Used in the Analysis: 45\n",
      "Critical Values:\n",
      "\t1%: -3.584828853223594\n",
      "\t5%: -2.9282991495198907\n",
      "\t10%: -2.6023438271604937\n",
      "Data Amount_Per_Day SUDAH STASIONER\n"
     ]
    }
   ],
   "source": [
    "stationarity_test(train_df)"
   ]
  },
  {
   "cell_type": "code",
   "execution_count": 38,
   "id": "c3887bf8-940f-42dc-a7c8-a12725808a83",
   "metadata": {},
   "outputs": [
    {
     "name": "stdout",
     "output_type": "stream",
     "text": [
      "Uji Stasionaritas:\n",
      "ADF Statistic: -5.389595441346728\n",
      "P-Value 3.56187722318105e-06\n",
      "Number of Lags: 2\n",
      "Number of Observation Used in the Analysis: 53\n",
      "Critical Values:\n",
      "\t1%: -3.560242358792829\n",
      "\t5%: -2.9178502070837\n",
      "\t10%: -2.5967964150943397\n",
      "Data Amount_Per_Day SUDAH STASIONER\n"
     ]
    }
   ],
   "source": [
    "stationarity_test(train_df2)"
   ]
  },
  {
   "cell_type": "code",
   "execution_count": 39,
   "id": "886c1f9e-6958-4869-bb34-833b85bcb2ed",
   "metadata": {},
   "outputs": [
    {
     "name": "stdout",
     "output_type": "stream",
     "text": [
      "Uji Stasionaritas:\n",
      "ADF Statistic: -5.78557010879164\n",
      "P-Value 5.008804986822789e-07\n",
      "Number of Lags: 2\n",
      "Number of Observation Used in the Analysis: 57\n",
      "Critical Values:\n",
      "\t1%: -3.5506699942762414\n",
      "\t5%: -2.913766394626147\n",
      "\t10%: -2.5946240473991997\n",
      "Data Amount_Per_Day SUDAH STASIONER\n"
     ]
    }
   ],
   "source": [
    "stationarity_test(train_df3)"
   ]
  },
  {
   "cell_type": "markdown",
   "id": "08bfd4ed-9f75-41d6-975d-b1467051f626",
   "metadata": {
    "editable": true,
    "slideshow": {
     "slide_type": ""
    },
    "tags": []
   },
   "source": [
    "### Stationarity Test Valued:\n",
    "\n",
    "notes: Stationer if P-Value < 0.05\n",
    "\n",
    "- train_df (51 rows : 60%) = P-Value 0.029066843634943097\n",
    "- train_df2 (56 rows : 65%) = P-Value 3.56187722318105e-06\n",
    "- train_df3 (60 rows : 70%) = P-Value 5.008804986822835e-07525311813663e-10"
   ]
  },
  {
   "cell_type": "markdown",
   "id": "011eb5af-0188-47cd-afa7-475048451141",
   "metadata": {},
   "source": [
    "## Hyperparameter Tuning"
   ]
  },
  {
   "cell_type": "markdown",
   "id": "28ed1da4-7c0b-4f90-a17b-b50959fec594",
   "metadata": {},
   "source": [
    "### auto_arima"
   ]
  },
  {
   "cell_type": "code",
   "execution_count": 40,
   "id": "52d4ad48-e965-4dd3-a5fe-db5735825f27",
   "metadata": {
    "editable": true,
    "slideshow": {
     "slide_type": ""
    },
    "tags": []
   },
   "outputs": [
    {
     "name": "stdout",
     "output_type": "stream",
     "text": [
      " ARIMA(0,0,0)(0,0,0)[0]             : AIC=1648.731, Time=0.05 sec\n",
      " ARIMA(0,0,1)(0,0,0)[0]             : AIC=1634.917, Time=0.03 sec\n",
      " ARIMA(0,0,2)(0,0,0)[0]             : AIC=1626.143, Time=0.03 sec\n",
      " ARIMA(0,0,3)(0,0,0)[0]             : AIC=1628.517, Time=0.04 sec\n",
      " ARIMA(0,0,4)(0,0,0)[0]             : AIC=1628.127, Time=0.06 sec\n",
      " ARIMA(0,0,5)(0,0,0)[0]             : AIC=1626.635, Time=0.08 sec\n",
      " ARIMA(1,0,0)(0,0,0)[0]             : AIC=1621.218, Time=0.02 sec\n",
      " ARIMA(1,0,1)(0,0,0)[0]             : AIC=1602.584, Time=0.05 sec\n",
      " ARIMA(1,0,2)(0,0,0)[0]             : AIC=1602.193, Time=0.12 sec\n",
      " ARIMA(1,0,3)(0,0,0)[0]             : AIC=1603.781, Time=0.10 sec\n",
      " ARIMA(1,0,4)(0,0,0)[0]             : AIC=1598.609, Time=0.13 sec\n",
      " ARIMA(2,0,0)(0,0,0)[0]             : AIC=1616.241, Time=0.02 sec\n",
      " ARIMA(2,0,1)(0,0,0)[0]             : AIC=1604.417, Time=0.07 sec\n",
      " ARIMA(2,0,2)(0,0,0)[0]             : AIC=1604.168, Time=0.14 sec\n"
     ]
    },
    {
     "name": "stdout",
     "output_type": "stream",
     "text": [
      " ARIMA(2,0,3)(0,0,0)[0]             : AIC=1605.863, Time=0.15 sec\n",
      " ARIMA(3,0,0)(0,0,0)[0]             : AIC=1617.527, Time=0.03 sec\n",
      " ARIMA(3,0,1)(0,0,0)[0]             : AIC=1606.289, Time=0.15 sec\n",
      " ARIMA(3,0,2)(0,0,0)[0]             : AIC=inf, Time=0.26 sec\n",
      " ARIMA(4,0,0)(0,0,0)[0]             : AIC=1615.372, Time=0.04 sec\n",
      " ARIMA(4,0,1)(0,0,0)[0]             : AIC=1604.238, Time=0.12 sec\n",
      " ARIMA(5,0,0)(0,0,0)[0]             : AIC=1608.914, Time=0.05 sec\n",
      "\n",
      "Best model:  ARIMA(1,0,4)(0,0,0)[0]          \n",
      "Total fit time: 1.746 seconds\n",
      "(1, 0, 4)\n"
     ]
    }
   ],
   "source": [
    "# Fit auto_arima to the training data to find the best parameters\n",
    "model = auto_arima(train_df3['Amount_Per_Day'], start_p = 1, max_p = 6, \n",
    "    start_q = 1, max_q = 6, d=0, suppress_warning=True,\n",
    "    seasonal = False, trace = True, stepwise=False)\n",
    "#train_df3 = train_df3.asfreq('D')  # tetapkan frekuensi harian (sesuaikan sesuai kebutuhan)\n",
    "# Print the best parameters\n",
    "print(model.order)  # This will give you the values for (p, d, q)\n",
    "#print('The best (p, d, q) model from auto_arima based on the data is:', model.order)"
   ]
  },
  {
   "cell_type": "code",
   "execution_count": 41,
   "id": "c7efa791-319b-405a-90fc-5ddb48ad77a0",
   "metadata": {},
   "outputs": [
    {
     "name": "stderr",
     "output_type": "stream",
     "text": [
      "C:\\Users\\DELL\\AppData\\Local\\Programs\\Python\\Python311\\Lib\\site-packages\\statsmodels\\tsa\\base\\tsa_model.py:473: ValueWarning: A date index has been provided, but it has no associated frequency information and so will be ignored when e.g. forecasting.\n",
      "  self._init_dates(dates, freq)\n",
      "C:\\Users\\DELL\\AppData\\Local\\Programs\\Python\\Python311\\Lib\\site-packages\\statsmodels\\tsa\\base\\tsa_model.py:473: ValueWarning: A date index has been provided, but it has no associated frequency information and so will be ignored when e.g. forecasting.\n",
      "  self._init_dates(dates, freq)\n",
      "C:\\Users\\DELL\\AppData\\Local\\Programs\\Python\\Python311\\Lib\\site-packages\\statsmodels\\tsa\\base\\tsa_model.py:473: ValueWarning: A date index has been provided, but it has no associated frequency information and so will be ignored when e.g. forecasting.\n",
      "  self._init_dates(dates, freq)\n"
     ]
    }
   ],
   "source": [
    "p, d, q = 1, 0, 4\n",
    "model_fitting= ARIMA(train_df3['Amount_Per_Day'], order=(p,d,q))\n",
    "arima_result = model_fitting.fit()"
   ]
  },
  {
   "cell_type": "code",
   "execution_count": 42,
   "id": "8b014a84-71cc-4f01-ae11-1311198d7d9f",
   "metadata": {},
   "outputs": [
    {
     "data": {
      "text/html": [
       "<table class=\"simpletable\">\n",
       "<caption>SARIMAX Results</caption>\n",
       "<tr>\n",
       "  <th>Dep. Variable:</th>    <td>Amount_Per_Day</td>  <th>  No. Observations:  </th>    <td>60</td>   \n",
       "</tr>\n",
       "<tr>\n",
       "  <th>Model:</th>            <td>ARIMA(1, 0, 4)</td>  <th>  Log Likelihood     </th> <td>-791.696</td>\n",
       "</tr>\n",
       "<tr>\n",
       "  <th>Date:</th>            <td>Sat, 20 Jan 2024</td> <th>  AIC                </th> <td>1597.393</td>\n",
       "</tr>\n",
       "<tr>\n",
       "  <th>Time:</th>                <td>13:46:16</td>     <th>  BIC                </th> <td>1612.053</td>\n",
       "</tr>\n",
       "<tr>\n",
       "  <th>Sample:</th>                  <td>0</td>        <th>  HQIC               </th> <td>1603.127</td>\n",
       "</tr>\n",
       "<tr>\n",
       "  <th></th>                       <td> - 60</td>      <th>                     </th>     <td> </td>   \n",
       "</tr>\n",
       "<tr>\n",
       "  <th>Covariance Type:</th>        <td>opg</td>       <th>                     </th>     <td> </td>   \n",
       "</tr>\n",
       "</table>\n",
       "<table class=\"simpletable\">\n",
       "<tr>\n",
       "     <td></td>       <th>coef</th>     <th>std err</th>      <th>z</th>      <th>P>|z|</th>  <th>[0.025</th>    <th>0.975]</th>  \n",
       "</tr>\n",
       "<tr>\n",
       "  <th>const</th>  <td> 1.738e+05</td> <td> 1.26e+04</td> <td>   13.802</td> <td> 0.000</td> <td> 1.49e+05</td> <td> 1.98e+05</td>\n",
       "</tr>\n",
       "<tr>\n",
       "  <th>ar.L1</th>  <td>   -0.8428</td> <td>    0.426</td> <td>   -1.979</td> <td> 0.048</td> <td>   -1.677</td> <td>   -0.008</td>\n",
       "</tr>\n",
       "<tr>\n",
       "  <th>ma.L1</th>  <td>    0.8932</td> <td>    0.437</td> <td>    2.045</td> <td> 0.041</td> <td>    0.037</td> <td>    1.749</td>\n",
       "</tr>\n",
       "<tr>\n",
       "  <th>ma.L2</th>  <td>    0.0560</td> <td>    0.152</td> <td>    0.367</td> <td> 0.713</td> <td>   -0.243</td> <td>    0.355</td>\n",
       "</tr>\n",
       "<tr>\n",
       "  <th>ma.L3</th>  <td>   -0.3015</td> <td>    0.145</td> <td>   -2.082</td> <td> 0.037</td> <td>   -0.585</td> <td>   -0.018</td>\n",
       "</tr>\n",
       "<tr>\n",
       "  <th>ma.L4</th>  <td>   -0.3495</td> <td>    0.149</td> <td>   -2.345</td> <td> 0.019</td> <td>   -0.642</td> <td>   -0.057</td>\n",
       "</tr>\n",
       "<tr>\n",
       "  <th>sigma2</th> <td> 1.434e+10</td> <td>    0.033</td> <td> 4.29e+11</td> <td> 0.000</td> <td> 1.43e+10</td> <td> 1.43e+10</td>\n",
       "</tr>\n",
       "</table>\n",
       "<table class=\"simpletable\">\n",
       "<tr>\n",
       "  <th>Ljung-Box (L1) (Q):</th>     <td>0.04</td> <th>  Jarque-Bera (JB):  </th> <td>7.70</td>\n",
       "</tr>\n",
       "<tr>\n",
       "  <th>Prob(Q):</th>                <td>0.84</td> <th>  Prob(JB):          </th> <td>0.02</td>\n",
       "</tr>\n",
       "<tr>\n",
       "  <th>Heteroskedasticity (H):</th> <td>0.82</td> <th>  Skew:              </th> <td>0.87</td>\n",
       "</tr>\n",
       "<tr>\n",
       "  <th>Prob(H) (two-sided):</th>    <td>0.66</td> <th>  Kurtosis:          </th> <td>3.23</td>\n",
       "</tr>\n",
       "</table><br/><br/>Warnings:<br/>[1] Covariance matrix calculated using the outer product of gradients (complex-step).<br/>[2] Covariance matrix is singular or near-singular, with condition number 7.31e+26. Standard errors may be unstable."
      ],
      "text/latex": [
       "\\begin{center}\n",
       "\\begin{tabular}{lclc}\n",
       "\\toprule\n",
       "\\textbf{Dep. Variable:}          & Amount\\_Per\\_Day & \\textbf{  No. Observations:  } &     60      \\\\\n",
       "\\textbf{Model:}                  &  ARIMA(1, 0, 4)  & \\textbf{  Log Likelihood     } &  -791.696   \\\\\n",
       "\\textbf{Date:}                   & Sat, 20 Jan 2024 & \\textbf{  AIC                } &  1597.393   \\\\\n",
       "\\textbf{Time:}                   &     13:46:16     & \\textbf{  BIC                } &  1612.053   \\\\\n",
       "\\textbf{Sample:}                 &        0         & \\textbf{  HQIC               } &  1603.127   \\\\\n",
       "\\textbf{}                        &       - 60       & \\textbf{                     } &             \\\\\n",
       "\\textbf{Covariance Type:}        &       opg        & \\textbf{                     } &             \\\\\n",
       "\\bottomrule\n",
       "\\end{tabular}\n",
       "\\begin{tabular}{lcccccc}\n",
       "                & \\textbf{coef} & \\textbf{std err} & \\textbf{z} & \\textbf{P$> |$z$|$} & \\textbf{[0.025} & \\textbf{0.975]}  \\\\\n",
       "\\midrule\n",
       "\\textbf{const}  &    1.738e+05  &     1.26e+04     &    13.802  &         0.000        &     1.49e+05    &     1.98e+05     \\\\\n",
       "\\textbf{ar.L1}  &      -0.8428  &        0.426     &    -1.979  &         0.048        &       -1.677    &       -0.008     \\\\\n",
       "\\textbf{ma.L1}  &       0.8932  &        0.437     &     2.045  &         0.041        &        0.037    &        1.749     \\\\\n",
       "\\textbf{ma.L2}  &       0.0560  &        0.152     &     0.367  &         0.713        &       -0.243    &        0.355     \\\\\n",
       "\\textbf{ma.L3}  &      -0.3015  &        0.145     &    -2.082  &         0.037        &       -0.585    &       -0.018     \\\\\n",
       "\\textbf{ma.L4}  &      -0.3495  &        0.149     &    -2.345  &         0.019        &       -0.642    &       -0.057     \\\\\n",
       "\\textbf{sigma2} &    1.434e+10  &        0.033     &  4.29e+11  &         0.000        &     1.43e+10    &     1.43e+10     \\\\\n",
       "\\bottomrule\n",
       "\\end{tabular}\n",
       "\\begin{tabular}{lclc}\n",
       "\\textbf{Ljung-Box (L1) (Q):}     & 0.04 & \\textbf{  Jarque-Bera (JB):  } & 7.70  \\\\\n",
       "\\textbf{Prob(Q):}                & 0.84 & \\textbf{  Prob(JB):          } & 0.02  \\\\\n",
       "\\textbf{Heteroskedasticity (H):} & 0.82 & \\textbf{  Skew:              } & 0.87  \\\\\n",
       "\\textbf{Prob(H) (two-sided):}    & 0.66 & \\textbf{  Kurtosis:          } & 3.23  \\\\\n",
       "\\bottomrule\n",
       "\\end{tabular}\n",
       "%\\caption{SARIMAX Results}\n",
       "\\end{center}\n",
       "\n",
       "Warnings: \\newline\n",
       " [1] Covariance matrix calculated using the outer product of gradients (complex-step). \\newline\n",
       " [2] Covariance matrix is singular or near-singular, with condition number 7.31e+26. Standard errors may be unstable."
      ],
      "text/plain": [
       "<class 'statsmodels.iolib.summary.Summary'>\n",
       "\"\"\"\n",
       "                               SARIMAX Results                                \n",
       "==============================================================================\n",
       "Dep. Variable:         Amount_Per_Day   No. Observations:                   60\n",
       "Model:                 ARIMA(1, 0, 4)   Log Likelihood                -791.696\n",
       "Date:                Sat, 20 Jan 2024   AIC                           1597.393\n",
       "Time:                        13:46:16   BIC                           1612.053\n",
       "Sample:                             0   HQIC                          1603.127\n",
       "                                 - 60                                         \n",
       "Covariance Type:                  opg                                         \n",
       "==============================================================================\n",
       "                 coef    std err          z      P>|z|      [0.025      0.975]\n",
       "------------------------------------------------------------------------------\n",
       "const       1.738e+05   1.26e+04     13.802      0.000    1.49e+05    1.98e+05\n",
       "ar.L1         -0.8428      0.426     -1.979      0.048      -1.677      -0.008\n",
       "ma.L1          0.8932      0.437      2.045      0.041       0.037       1.749\n",
       "ma.L2          0.0560      0.152      0.367      0.713      -0.243       0.355\n",
       "ma.L3         -0.3015      0.145     -2.082      0.037      -0.585      -0.018\n",
       "ma.L4         -0.3495      0.149     -2.345      0.019      -0.642      -0.057\n",
       "sigma2      1.434e+10      0.033   4.29e+11      0.000    1.43e+10    1.43e+10\n",
       "===================================================================================\n",
       "Ljung-Box (L1) (Q):                   0.04   Jarque-Bera (JB):                 7.70\n",
       "Prob(Q):                              0.84   Prob(JB):                         0.02\n",
       "Heteroskedasticity (H):               0.82   Skew:                             0.87\n",
       "Prob(H) (two-sided):                  0.66   Kurtosis:                         3.23\n",
       "===================================================================================\n",
       "\n",
       "Warnings:\n",
       "[1] Covariance matrix calculated using the outer product of gradients (complex-step).\n",
       "[2] Covariance matrix is singular or near-singular, with condition number 7.31e+26. Standard errors may be unstable.\n",
       "\"\"\""
      ]
     },
     "execution_count": 42,
     "metadata": {},
     "output_type": "execute_result"
    }
   ],
   "source": [
    "arima_result.summary()"
   ]
  },
  {
   "cell_type": "markdown",
   "id": "a24d6d5d-7c64-4b54-802e-1230c492dceb",
   "metadata": {},
   "source": [
    "-----------------------------------------------------------"
   ]
  },
  {
   "cell_type": "markdown",
   "id": "519714ff-ef6f-4fd3-90cc-c34656c42f90",
   "metadata": {
    "jp-MarkdownHeadingCollapsed": true
   },
   "source": [
    "### manual method using ACF and PACF grafic"
   ]
  },
  {
   "cell_type": "code",
   "execution_count": 43,
   "id": "8b120685-2468-48fc-b51a-10ed73a30d46",
   "metadata": {
    "jupyter": {
     "source_hidden": true
    }
   },
   "outputs": [],
   "source": [
    "def manual_model(dataset):\n",
    "    #ACF & PACF plots\n",
    "\n",
    "    lag_acf = acf(dataset, nlags=12)\n",
    "    lag_pacf = pacf(dataset, nlags=12, method='ols')\n",
    "    \n",
    "    # Plot ACF and PACF\n",
    "    plt.figure(figsize=(12, 6))\n",
    "    \n",
    "    #Plot ACF\n",
    "    plt.subplot(121)\n",
    "    plt.stem(range(len(lag_acf)), lag_acf)\n",
    "    #plt.plot(lag_acf)\n",
    "    plt.axhline(y=0, linestyle='--', color='gray')\n",
    "    plt.axhline(y=-1.96/np.sqrt(len(dataset)), linestyle='--', color='gray')\n",
    "    plt.axhline(y=1.96/np.sqrt(len(dataset)), linestyle='--', color='gray')\n",
    "    plt.title('Autocorrelation Function')\n",
    "    \n",
    "    #Plot PACF\n",
    "    plt.subplot(122)\n",
    "    plt.stem(range(len(lag_pacf)), lag_pacf)\n",
    "    #plt.plot(lag_pacf)\n",
    "    plt.axhline(y=0, linestyle='--', color='gray')\n",
    "    plt.axhline(y=-1.96/np.sqrt(len(dataset)), linestyle='--', color='gray')\n",
    "    plt.axhline(y=1.96/np.sqrt(len(dataset)), linestyle='--', color='gray')\n",
    "    plt.title('Partial Autocorrelation Function')\n",
    "    \n",
    "    plt.tight_layout()\n",
    "    plt.show()"
   ]
  },
  {
   "cell_type": "code",
   "execution_count": 44,
   "id": "46a18c48-c016-4e8a-9a4e-546dc227ab22",
   "metadata": {},
   "outputs": [
    {
     "data": {
      "image/png": "[encoded data removed]",
      "text/plain": [
       "<Figure size 1200x600 with 2 Axes>"
      ]
     },
     "metadata": {},
     "output_type": "display_data"
    }
   ],
   "source": [
    "manual_model(train_df3)"
   ]
  },
  {
   "cell_type": "markdown",
   "id": "7eac7151-fa27-46c9-93d8-c8db7dcc3198",
   "metadata": {},
   "source": [
    "### Data Forecasting"
   ]
  },
  {
   "cell_type": "markdown",
   "id": "e2816742-d98d-47b7-8077-5e0a54605476",
   "metadata": {},
   "source": [
    "#### _solving problem_ "
   ]
  },
  {
   "cell_type": "code",
   "execution_count": 45,
   "id": "9cfd5bfc-471d-4a06-bcf7-19a6057cfa57",
   "metadata": {},
   "outputs": [],
   "source": [
    "start=len(train_df3)\n",
    "end=len(train_df3)+len(test_df3)-1"
   ]
  },
  {
   "cell_type": "code",
   "execution_count": 46,
   "id": "c648a34f-de98-44c6-a0bf-c0bcb110d86a",
   "metadata": {
    "scrolled": true
   },
   "outputs": [
    {
     "name": "stderr",
     "output_type": "stream",
     "text": [
      "C:\\Users\\DELL\\AppData\\Local\\Programs\\Python\\Python311\\Lib\\site-packages\\statsmodels\\tsa\\base\\tsa_model.py:836: ValueWarning: No supported index is available. Prediction results will be given with an integer index beginning at `start`.\n",
      "  return get_prediction_index(\n",
      "C:\\Users\\DELL\\AppData\\Local\\Programs\\Python\\Python311\\Lib\\site-packages\\statsmodels\\tsa\\base\\tsa_model.py:836: FutureWarning: No supported index is available. In the next version, calling this method in a model without a supported index will result in an exception.\n",
      "  return get_prediction_index(\n"
     ]
    }
   ],
   "source": [
    "forecast_results = arima_result.get_prediction(start=start, end=end, dynamic=False)\n",
    "forecast_values = forecast_results.predicted_mean\n",
    "conf_int = forecast_results.conf_int()\n",
    "forecast_df = pd.DataFrame({'Forecast': forecast_values})"
   ]
  },
  {
   "cell_type": "code",
   "execution_count": 47,
   "id": "38714265-bb58-49a4-8d5f-c29fc19424a8",
   "metadata": {},
   "outputs": [],
   "source": [
    "forecast_df.index = df2.index[start:end+1]"
   ]
  },
  {
   "cell_type": "code",
   "execution_count": 48,
   "id": "7bf8a452-e838-451d-9c97-5aaa4b0a0fb9",
   "metadata": {},
   "outputs": [
    {
     "name": "stdout",
     "output_type": "stream",
     "text": [
      "                      Forecast\n",
      "Settlement_Date               \n",
      "2023-10-23       203987.374259\n",
      "2023-10-24        86947.412160\n",
      "2023-10-25       159919.404192\n",
      "2023-10-26       220455.719649\n",
      "2023-10-27       134465.371867\n",
      "2023-10-29       206936.586304\n",
      "2023-10-30       145859.069379\n",
      "2023-10-31       197334.170255\n",
      "2023-11-01       153951.823631\n",
      "2023-11-02       190513.733498\n",
      "2023-11-03       159699.972668\n",
      "2023-11-10       185669.290461\n",
      "2023-11-13       163782.787532\n",
      "2023-11-14       182228.362972\n",
      "2023-11-15       166682.743172\n",
      "2023-11-16       179784.329282\n",
      "2023-11-17       168742.533534\n",
      "2023-11-21       178048.372713\n",
      "2023-11-22       170205.568444\n",
      "2023-11-23       176815.351572\n",
      "2023-11-24       171244.737860\n",
      "2023-11-25       175939.557120\n",
      "2023-11-26       171982.842650\n",
      "2023-11-27       175317.494855\n",
      "2023-11-29       172507.106233\n"
     ]
    }
   ],
   "source": [
    "print(forecast_df)"
   ]
  },
  {
   "cell_type": "code",
   "execution_count": 49,
   "id": "02c0781f-03cb-44d9-ad5a-788df13d55e3",
   "metadata": {},
   "outputs": [],
   "source": [
    "merged_df = pd.concat([forecast_df, test_df3], axis=1)"
   ]
  },
  {
   "cell_type": "code",
   "execution_count": 50,
   "id": "62033cf9-d7cc-4ac3-bbd8-10ca2304a6df",
   "metadata": {},
   "outputs": [],
   "source": [
    "merged_df = merged_df.reset_index().copy()"
   ]
  },
  {
   "cell_type": "code",
   "execution_count": 51,
   "id": "46bc89a2-1ccc-423e-a5c1-d4c6fba47da7",
   "metadata": {},
   "outputs": [
    {
     "name": "stdout",
     "output_type": "stream",
     "text": [
      "count        25.000000\n",
      "mean     171960.868650\n",
      "std       25879.671328\n",
      "min       86947.412160\n",
      "25%      163782.787532\n",
      "50%      172507.106233\n",
      "75%      182228.362972\n",
      "max      220455.719649\n",
      "Name: Forecast, dtype: float64\n"
     ]
    }
   ],
   "source": [
    "print(merged_df['Forecast'].describe())"
   ]
  },
  {
   "cell_type": "code",
   "execution_count": 52,
   "id": "8945b2e7-207d-4a2d-9d86-b22d557eb05d",
   "metadata": {},
   "outputs": [
    {
     "data": {
      "text/plain": [
       "count        25.000000\n",
       "mean     160803.360000\n",
       "std      131644.897715\n",
       "min       29790.000000\n",
       "25%       83776.000000\n",
       "50%      124895.000000\n",
       "75%      197741.000000\n",
       "max      669159.000000\n",
       "Name: Amount_Per_Day, dtype: float64"
      ]
     },
     "execution_count": 52,
     "metadata": {},
     "output_type": "execute_result"
    }
   ],
   "source": [
    "merged_df['Amount_Per_Day'].describe()"
   ]
  },
  {
   "cell_type": "code",
   "execution_count": 53,
   "id": "c32eaf8d-c74f-4faf-8565-0dee578b1730",
   "metadata": {},
   "outputs": [
    {
     "data": {
      "text/html": [
       "<div>\n",
       "<style scoped>\n",
       "    .dataframe tbody tr th:only-of-type {\n",
       "        vertical-align: middle;\n",
       "    }\n",
       "\n",
       "    .dataframe tbody tr th {\n",
       "        vertical-align: top;\n",
       "    }\n",
       "\n",
       "    .dataframe thead th {\n",
       "        text-align: right;\n",
       "    }\n",
       "</style>\n",
       "<table border=\"1\" class=\"dataframe\">\n",
       "  <thead>\n",
       "    <tr style=\"text-align: right;\">\n",
       "      <th></th>\n",
       "      <th>Settlement_Date</th>\n",
       "      <th>Forecast</th>\n",
       "      <th>Amount_Per_Day</th>\n",
       "    </tr>\n",
       "  </thead>\n",
       "  <tbody>\n",
       "    <tr>\n",
       "      <th>0</th>\n",
       "      <td>2023-10-23</td>\n",
       "      <td>203987.374259</td>\n",
       "      <td>62895</td>\n",
       "    </tr>\n",
       "    <tr>\n",
       "      <th>1</th>\n",
       "      <td>2023-10-24</td>\n",
       "      <td>86947.412160</td>\n",
       "      <td>83776</td>\n",
       "    </tr>\n",
       "    <tr>\n",
       "      <th>2</th>\n",
       "      <td>2023-10-25</td>\n",
       "      <td>159919.404192</td>\n",
       "      <td>94440</td>\n",
       "    </tr>\n",
       "    <tr>\n",
       "      <th>3</th>\n",
       "      <td>2023-10-26</td>\n",
       "      <td>220455.719649</td>\n",
       "      <td>669159</td>\n",
       "    </tr>\n",
       "    <tr>\n",
       "      <th>4</th>\n",
       "      <td>2023-10-27</td>\n",
       "      <td>134465.371867</td>\n",
       "      <td>123874</td>\n",
       "    </tr>\n",
       "    <tr>\n",
       "      <th>5</th>\n",
       "      <td>2023-10-29</td>\n",
       "      <td>206936.586304</td>\n",
       "      <td>95895</td>\n",
       "    </tr>\n",
       "    <tr>\n",
       "      <th>6</th>\n",
       "      <td>2023-10-30</td>\n",
       "      <td>145859.069379</td>\n",
       "      <td>129874</td>\n",
       "    </tr>\n",
       "    <tr>\n",
       "      <th>7</th>\n",
       "      <td>2023-10-31</td>\n",
       "      <td>197334.170255</td>\n",
       "      <td>313489</td>\n",
       "    </tr>\n",
       "    <tr>\n",
       "      <th>8</th>\n",
       "      <td>2023-11-01</td>\n",
       "      <td>153951.823631</td>\n",
       "      <td>29790</td>\n",
       "    </tr>\n",
       "    <tr>\n",
       "      <th>9</th>\n",
       "      <td>2023-11-02</td>\n",
       "      <td>190513.733498</td>\n",
       "      <td>90000</td>\n",
       "    </tr>\n",
       "    <tr>\n",
       "      <th>10</th>\n",
       "      <td>2023-11-03</td>\n",
       "      <td>159699.972668</td>\n",
       "      <td>156608</td>\n",
       "    </tr>\n",
       "    <tr>\n",
       "      <th>11</th>\n",
       "      <td>2023-11-10</td>\n",
       "      <td>185669.290461</td>\n",
       "      <td>292342</td>\n",
       "    </tr>\n",
       "    <tr>\n",
       "      <th>12</th>\n",
       "      <td>2023-11-13</td>\n",
       "      <td>163782.787532</td>\n",
       "      <td>168000</td>\n",
       "    </tr>\n",
       "    <tr>\n",
       "      <th>13</th>\n",
       "      <td>2023-11-14</td>\n",
       "      <td>182228.362972</td>\n",
       "      <td>46000</td>\n",
       "    </tr>\n",
       "    <tr>\n",
       "      <th>14</th>\n",
       "      <td>2023-11-15</td>\n",
       "      <td>166682.743172</td>\n",
       "      <td>197741</td>\n",
       "    </tr>\n",
       "    <tr>\n",
       "      <th>15</th>\n",
       "      <td>2023-11-16</td>\n",
       "      <td>179784.329282</td>\n",
       "      <td>274167</td>\n",
       "    </tr>\n",
       "    <tr>\n",
       "      <th>16</th>\n",
       "      <td>2023-11-17</td>\n",
       "      <td>168742.533534</td>\n",
       "      <td>124895</td>\n",
       "    </tr>\n",
       "    <tr>\n",
       "      <th>17</th>\n",
       "      <td>2023-11-21</td>\n",
       "      <td>178048.372713</td>\n",
       "      <td>106874</td>\n",
       "    </tr>\n",
       "    <tr>\n",
       "      <th>18</th>\n",
       "      <td>2023-11-22</td>\n",
       "      <td>170205.568444</td>\n",
       "      <td>224769</td>\n",
       "    </tr>\n",
       "    <tr>\n",
       "      <th>19</th>\n",
       "      <td>2023-11-23</td>\n",
       "      <td>176815.351572</td>\n",
       "      <td>71748</td>\n",
       "    </tr>\n",
       "    <tr>\n",
       "      <th>20</th>\n",
       "      <td>2023-11-24</td>\n",
       "      <td>171244.737860</td>\n",
       "      <td>60000</td>\n",
       "    </tr>\n",
       "    <tr>\n",
       "      <th>21</th>\n",
       "      <td>2023-11-25</td>\n",
       "      <td>175939.557120</td>\n",
       "      <td>237000</td>\n",
       "    </tr>\n",
       "    <tr>\n",
       "      <th>22</th>\n",
       "      <td>2023-11-26</td>\n",
       "      <td>171982.842650</td>\n",
       "      <td>131000</td>\n",
       "    </tr>\n",
       "    <tr>\n",
       "      <th>23</th>\n",
       "      <td>2023-11-27</td>\n",
       "      <td>175317.494855</td>\n",
       "      <td>162748</td>\n",
       "    </tr>\n",
       "    <tr>\n",
       "      <th>24</th>\n",
       "      <td>2023-11-29</td>\n",
       "      <td>172507.106233</td>\n",
       "      <td>73000</td>\n",
       "    </tr>\n",
       "  </tbody>\n",
       "</table>\n",
       "</div>"
      ],
      "text/plain": [
       "   Settlement_Date       Forecast  Amount_Per_Day\n",
       "0       2023-10-23  203987.374259           62895\n",
       "1       2023-10-24   86947.412160           83776\n",
       "2       2023-10-25  159919.404192           94440\n",
       "3       2023-10-26  220455.719649          669159\n",
       "4       2023-10-27  134465.371867          123874\n",
       "5       2023-10-29  206936.586304           95895\n",
       "6       2023-10-30  145859.069379          129874\n",
       "7       2023-10-31  197334.170255          313489\n",
       "8       2023-11-01  153951.823631           29790\n",
       "9       2023-11-02  190513.733498           90000\n",
       "10      2023-11-03  159699.972668          156608\n",
       "11      2023-11-10  185669.290461          292342\n",
       "12      2023-11-13  163782.787532          168000\n",
       "13      2023-11-14  182228.362972           46000\n",
       "14      2023-11-15  166682.743172          197741\n",
       "15      2023-11-16  179784.329282          274167\n",
       "16      2023-11-17  168742.533534          124895\n",
       "17      2023-11-21  178048.372713          106874\n",
       "18      2023-11-22  170205.568444          224769\n",
       "19      2023-11-23  176815.351572           71748\n",
       "20      2023-11-24  171244.737860           60000\n",
       "21      2023-11-25  175939.557120          237000\n",
       "22      2023-11-26  171982.842650          131000\n",
       "23      2023-11-27  175317.494855          162748\n",
       "24      2023-11-29  172507.106233           73000"
      ]
     },
     "execution_count": 53,
     "metadata": {},
     "output_type": "execute_result"
    }
   ],
   "source": [
    "merged_df"
   ]
  },
  {
   "cell_type": "code",
   "execution_count": 54,
   "id": "92eacf71-b6de-4c26-b9c1-d0bd2152e155",
   "metadata": {},
   "outputs": [
    {
     "data": {
      "image/png": "[encoded data removed]",
      "text/plain": [
       "<Figure size 1000x600 with 1 Axes>"
      ]
     },
     "metadata": {},
     "output_type": "display_data"
    }
   ],
   "source": [
    "plt.figure(figsize=(10, 6))\n",
    "plt.plot(train_df3.index, train_df3['Amount_Per_Day'], label='Train Data')\n",
    "plt.plot(forecast_df.index, forecast_df['Forecast'], label='Forecast', color='red')\n",
    "plt.plot(test_df3.index, test_df3['Amount_Per_Day'], label='Test Data', color='green')\n",
    "plt.xlabel('Date')\n",
    "plt.ylabel('Amount')\n",
    "plt.title('Amount over Time with ARIMA Forecast')\n",
    "plt.legend()\n",
    "plt.show()"
   ]
  },
  {
   "cell_type": "markdown",
   "id": "53342c8e-fbaf-43b0-9b82-36291eca6b2d",
   "metadata": {},
   "source": [
    "## Evaluasi Peramalan Data"
   ]
  },
  {
   "cell_type": "code",
   "execution_count": 55,
   "id": "46b5d41c-8c2c-4b3f-a0c3-58bc0b2757fc",
   "metadata": {},
   "outputs": [
    {
     "name": "stdout",
     "output_type": "stream",
     "text": [
      "Root Mean Squared Error (RMSE): 120984.85279135243\n",
      "Mean Absolute Error (MAE): 84502.5353773148\n",
      "Mean Absolute Percentage Error (MAPE): 0.8451384493363414\n"
     ]
    }
   ],
   "source": [
    "rmse = mean_squared_error(merged_df['Amount_Per_Day'], merged_df['Forecast'], squared=False)\n",
    "mae = mean_absolute_error(merged_df['Amount_Per_Day'], merged_df['Forecast'])\n",
    "mape = mean_absolute_percentage_error(merged_df['Amount_Per_Day'], merged_df['Forecast'])\n",
    "\n",
    "print('Root Mean Squared Error (RMSE):', rmse)\n",
    "print('Mean Absolute Error (MAE):', mae)\n",
    "print('Mean Absolute Percentage Error (MAPE):', mape)"
   ]
  },
  {
   "cell_type": "markdown",
   "id": "4a774c8b-ba3b-4f42-acba-05be733b2071",
   "metadata": {},
   "source": [
    "---------------------------------------------------------"
   ]
  }
 ],
 "metadata": {
  "kernelspec": {
   "display_name": "Python 3 (ipykernel)",
   "language": "python",
   "name": "python3"
  }
 },
 "nbformat": 4,
 "nbformat_minor": 5
}
